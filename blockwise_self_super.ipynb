{
 "cells": [
  {
   "cell_type": "code",
   "execution_count": 15,
   "id": "0c3ef7ac",
   "metadata": {
    "tags": []
   },
   "outputs": [
    {
     "name": "stdout",
     "output_type": "stream",
     "text": [
      "Collecting cupy-cuda113\n",
      "  Downloading cupy_cuda113-10.6.0-cp310-cp310-manylinux1_x86_64.whl (76.1 MB)\n",
      "\u001b[2K     \u001b[90m━━━━━━━━━━━━━━━━━━━━━━━━━━━━━━━━━━━━━━━━\u001b[0m \u001b[32m76.1/76.1 MB\u001b[0m \u001b[31m7.7 MB/s\u001b[0m eta \u001b[36m0:00:00\u001b[0m00:01\u001b[0m00:01\u001b[0m\n",
      "\u001b[?25hRequirement already satisfied: numpy<1.25,>=1.18 in /usr/local/lib/python3.10/dist-packages (from cupy-cuda113) (1.24.2)\n",
      "Collecting fastrlock>=0.5\n",
      "  Downloading fastrlock-0.8.1-cp310-cp310-manylinux_2_5_x86_64.manylinux1_x86_64.manylinux_2_24_x86_64.whl (47 kB)\n",
      "\u001b[2K     \u001b[90m━━━━━━━━━━━━━━━━━━━━━━━━━━━━━━━━━━━━━━━━\u001b[0m \u001b[32m47.3/47.3 kB\u001b[0m \u001b[31m15.3 MB/s\u001b[0m eta \u001b[36m0:00:00\u001b[0m\n",
      "\u001b[?25hInstalling collected packages: fastrlock, cupy-cuda113\n",
      "Successfully installed cupy-cuda113-10.6.0 fastrlock-0.8.1\n",
      "\u001b[33mWARNING: Running pip as the 'root' user can result in broken permissions and conflicting behaviour with the system package manager. It is recommended to use a virtual environment instead: https://pip.pypa.io/warnings/venv\u001b[0m\u001b[33m\n",
      "\u001b[0m\n",
      "\u001b[1m[\u001b[0m\u001b[34;49mnotice\u001b[0m\u001b[1;39;49m]\u001b[0m\u001b[39;49m A new release of pip is available: \u001b[0m\u001b[31;49m23.0.1\u001b[0m\u001b[39;49m -> \u001b[0m\u001b[32;49m23.1.2\u001b[0m\n",
      "\u001b[1m[\u001b[0m\u001b[34;49mnotice\u001b[0m\u001b[1;39;49m]\u001b[0m\u001b[39;49m To update, run: \u001b[0m\u001b[32;49mpython -m pip install --upgrade pip\u001b[0m\n"
     ]
    }
   ],
   "source": [
    "#install cupy, install sigpy, install pytorch\n",
    "!pip install cupy-cuda113 #this may need to be updated depending on GPU/cuda\n",
    "!pip install torch\n",
    "!pip install numpy\n",
    "!pip install sigpy\n",
    "!pip install imageio"
   ]
  },
  {
   "cell_type": "code",
   "execution_count": 1,
   "id": "133b2ac3-70d6-4ef2-98d5-2c1a07f90470",
   "metadata": {
    "tags": []
   },
   "outputs": [],
   "source": [
    "import cupy\n",
    "import sigpy\n",
    "import torch\n",
    "import numpy as np\n",
    "from matplotlib import pyplot as plt\n",
    "import imageio\n",
    "import logging\n",
    "from data_loader_utils import load_data\n",
    "from CGs_layer import CG_DClayer\n",
    "from gridded_calcs import init_im\n",
    "from block_wise import Net_blockwise,SS_update,runner"
   ]
  },
  {
   "cell_type": "code",
   "execution_count": 2,
   "id": "ac075077-9a00-4a80-bf46-fe248ce6ba2d",
   "metadata": {
    "tags": []
   },
   "outputs": [
    {
     "name": "stdout",
     "output_type": "stream",
     "text": [
      "test\n",
      "1\n",
      "coord\n",
      "coils\n",
      "0\n",
      "1\n",
      "2\n",
      "3\n",
      "4\n",
      "5\n",
      "6\n",
      "7\n",
      "8\n",
      "9\n",
      "10\n",
      "11\n",
      "12\n",
      "noisy\n",
      "stack\n",
      "complete\n",
      "0\n",
      "1\n",
      "2\n",
      "3\n",
      "4\n",
      "5\n",
      "6\n",
      "7\n",
      "8\n",
      "9\n",
      "10\n",
      "11\n",
      "12\n",
      "[176, 176, 352]\n"
     ]
    },
    {
     "data": {
      "application/vnd.jupyter.widget-view+json": {
       "model_id": "faab7e6e1c364e52b28ff4e995489460",
       "version_major": 2,
       "version_minor": 0
      },
      "text/plain": [
       "JsenseRecon:   0%|          | 0/10 [00:00<?, ?it/s]"
      ]
     },
     "metadata": {},
     "output_type": "display_data"
    },
    {
     "data": {
      "application/vnd.jupyter.widget-view+json": {
       "model_id": "5f0cffc87281404c92e1f31c52bad009",
       "version_major": 2,
       "version_minor": 0
      },
      "text/plain": [
       "MaxEig:   0%|          | 0/500 [00:00<?, ?it/s]"
      ]
     },
     "metadata": {},
     "output_type": "display_data"
    },
    {
     "name": "stdout",
     "output_type": "stream",
     "text": [
      "0\n",
      "1\n",
      "2\n",
      "3\n",
      "4\n",
      "5\n",
      "6\n",
      "7\n",
      "8\n",
      "9\n",
      "10\n",
      "11\n",
      "12\n",
      "0.4827706813812256\n"
     ]
    }
   ],
   "source": [
    "#load temporally sorted k-space data and associated trajectories, density compensation and sense maps\n",
    "ksp,coord,dcf,mpsa=load_data('MRI_Raw.h5',1)"
   ]
  },
  {
   "cell_type": "code",
   "execution_count": 3,
   "id": "88a77c6a",
   "metadata": {
    "tags": []
   },
   "outputs": [],
   "source": [
    "\n",
    "net_block=Net_blockwise(channels=2)\n",
    "net_block=net_block.cuda()\n",
    "optimizer0 = torch.optim.Adam(\n",
    "    net_block.parameters(),\n",
    "    lr= 1e-3)\n",
    "alpha=torch.nn.parameter.Parameter(torch.ones([1],device='cuda')*.0002)\n",
    "\n",
    "optimizer1=torch.optim.Adam([alpha],lr=1e-4)"
   ]
  },
  {
   "cell_type": "code",
   "execution_count": 6,
   "id": "d2c21d50",
   "metadata": {
    "tags": []
   },
   "outputs": [],
   "source": [
    "def NN_unroll(im,kdelta,cdelta,ddelta,mps,alpha):\n",
    "    lo=0\n",
    "    im=net_block(im,lo,mps)\n",
    "    im=CG_DClayer(im,kdelta,cdelta,ddelta,mps,alpha,3).unsqueeze(0)\n",
    "    \n",
    "    \n",
    "    return im"
   ]
  },
  {
   "cell_type": "code",
   "execution_count": null,
   "id": "9914daec",
   "metadata": {
    "tags": []
   },
   "outputs": [
    {
     "name": "stderr",
     "output_type": "stream",
     "text": [
      "/usr/local/lib/python3.10/dist-packages/torch/utils/checkpoint.py:31: UserWarning: None of the inputs have requires_grad=True. Gradients will be None\n",
      "  warnings.warn(\"None of the inputs have requires_grad=True. Gradients will be None\")\n",
      "WARNING:imageio:Lossy conversion from float32 to uint8. Range [23932071936.0, 10035897827328.0]. Convert image to uint8 prior to saving to suppress this warning.\n"
     ]
    },
    {
     "name": "stdout",
     "output_type": "stream",
     "text": [
      "tensor(11.4275, device='cuda:0', grad_fn=<MulBackward0>)\n",
      "Parameter containing:\n",
      "tensor([0.0002], device='cuda:0', requires_grad=True)\n",
      "tensor(11.4275, device='cuda:0', grad_fn=<MulBackward0>)\n"
     ]
    },
    {
     "name": "stderr",
     "output_type": "stream",
     "text": [
      "WARNING:imageio:Lossy conversion from float32 to uint8. Range [26282491904.0, 9712539009024.0]. Convert image to uint8 prior to saving to suppress this warning.\n"
     ]
    },
    {
     "name": "stdout",
     "output_type": "stream",
     "text": [
      "tensor(10.9458, device='cuda:0', grad_fn=<MulBackward0>)\n",
      "Parameter containing:\n",
      "tensor([0.0003], device='cuda:0', requires_grad=True)\n",
      "tensor(10.9458, device='cuda:0', grad_fn=<MulBackward0>)\n"
     ]
    },
    {
     "name": "stderr",
     "output_type": "stream",
     "text": [
      "WARNING:imageio:Lossy conversion from float32 to uint8. Range [47438426112.0, 9369046482944.0]. Convert image to uint8 prior to saving to suppress this warning.\n"
     ]
    },
    {
     "name": "stdout",
     "output_type": "stream",
     "text": [
      "tensor(11.4109, device='cuda:0', grad_fn=<MulBackward0>)\n",
      "Parameter containing:\n",
      "tensor([0.0004], device='cuda:0', requires_grad=True)\n",
      "tensor(11.4109, device='cuda:0', grad_fn=<MulBackward0>)\n"
     ]
    },
    {
     "name": "stderr",
     "output_type": "stream",
     "text": [
      "WARNING:imageio:Lossy conversion from float32 to uint8. Range [12187937792.0, 9370833256448.0]. Convert image to uint8 prior to saving to suppress this warning.\n"
     ]
    },
    {
     "name": "stdout",
     "output_type": "stream",
     "text": [
      "tensor(11.1619, device='cuda:0', grad_fn=<MulBackward0>)\n",
      "Parameter containing:\n",
      "tensor([0.0005], device='cuda:0', requires_grad=True)\n",
      "tensor(11.1619, device='cuda:0', grad_fn=<MulBackward0>)\n"
     ]
    },
    {
     "name": "stderr",
     "output_type": "stream",
     "text": [
      "WARNING:imageio:Lossy conversion from float32 to uint8. Range [24511813632.0, 9084587737088.0]. Convert image to uint8 prior to saving to suppress this warning.\n"
     ]
    },
    {
     "name": "stdout",
     "output_type": "stream",
     "text": [
      "tensor(11.0235, device='cuda:0', grad_fn=<MulBackward0>)\n",
      "Parameter containing:\n",
      "tensor([0.0005], device='cuda:0', requires_grad=True)\n",
      "tensor(11.0235, device='cuda:0', grad_fn=<MulBackward0>)\n"
     ]
    },
    {
     "name": "stderr",
     "output_type": "stream",
     "text": [
      "WARNING:imageio:Lossy conversion from float32 to uint8. Range [28581361664.0, 9456100311040.0]. Convert image to uint8 prior to saving to suppress this warning.\n"
     ]
    },
    {
     "name": "stdout",
     "output_type": "stream",
     "text": [
      "tensor(10.8409, device='cuda:0', grad_fn=<MulBackward0>)\n",
      "Parameter containing:\n",
      "tensor([0.0005], device='cuda:0', requires_grad=True)\n",
      "tensor(10.8409, device='cuda:0', grad_fn=<MulBackward0>)\n"
     ]
    },
    {
     "name": "stderr",
     "output_type": "stream",
     "text": [
      "WARNING:imageio:Lossy conversion from float32 to uint8. Range [22010836992.0, 10224908894208.0]. Convert image to uint8 prior to saving to suppress this warning.\n"
     ]
    },
    {
     "name": "stdout",
     "output_type": "stream",
     "text": [
      "tensor(12.0154, device='cuda:0', grad_fn=<MulBackward0>)\n",
      "Parameter containing:\n",
      "tensor([0.0006], device='cuda:0', requires_grad=True)\n",
      "tensor(12.0154, device='cuda:0', grad_fn=<MulBackward0>)\n"
     ]
    },
    {
     "name": "stderr",
     "output_type": "stream",
     "text": [
      "WARNING:imageio:Lossy conversion from float32 to uint8. Range [23952617472.0, 10452730904576.0]. Convert image to uint8 prior to saving to suppress this warning.\n"
     ]
    },
    {
     "name": "stdout",
     "output_type": "stream",
     "text": [
      "tensor(14.6014, device='cuda:0', grad_fn=<MulBackward0>)\n",
      "Parameter containing:\n",
      "tensor([0.0006], device='cuda:0', requires_grad=True)\n",
      "tensor(14.6014, device='cuda:0', grad_fn=<MulBackward0>)\n"
     ]
    },
    {
     "name": "stderr",
     "output_type": "stream",
     "text": [
      "WARNING:imageio:Lossy conversion from float32 to uint8. Range [9640819712.0, 9964977389568.0]. Convert image to uint8 prior to saving to suppress this warning.\n"
     ]
    },
    {
     "name": "stdout",
     "output_type": "stream",
     "text": [
      "tensor(11.7669, device='cuda:0', grad_fn=<MulBackward0>)\n",
      "Parameter containing:\n",
      "tensor([0.0006], device='cuda:0', requires_grad=True)\n",
      "tensor(11.7669, device='cuda:0', grad_fn=<MulBackward0>)\n"
     ]
    },
    {
     "name": "stderr",
     "output_type": "stream",
     "text": [
      "WARNING:imageio:Lossy conversion from float32 to uint8. Range [33693075456.0, 9666906030080.0]. Convert image to uint8 prior to saving to suppress this warning.\n"
     ]
    },
    {
     "name": "stdout",
     "output_type": "stream",
     "text": [
      "tensor(10.6872, device='cuda:0', grad_fn=<MulBackward0>)\n",
      "Parameter containing:\n",
      "tensor([0.0006], device='cuda:0', requires_grad=True)\n"
     ]
    }
   ],
   "source": [
    "mps=torch.from_numpy(mpsa).cpu()\n",
    "index_max=1\n",
    "index_frame=1\n",
    "for i in range(1000):\n",
    "   \n",
    "  #  torch.save(nets,'nets1')\n",
    "    frac=.4\n",
    "    ima,kgamma,dgamma,cgamma,kdelta,ddelta,cdelta=runner(frac,ksp,dcf,coord,mps.detach().cpu().numpy())\n",
    "    alpha0=torch.zeros([1]).cuda()\n",
    "    with torch.no_grad():\n",
    "        im=CG_DClayer(ima.detach(),kdelta,cdelta,ddelta,mps,alpha0,5)\n",
    "    im.requires_grad=True\n",
    "    for j in range(5):\n",
    "       \n",
    "        im=torch.utils.checkpoint.checkpoint(NN_unroll,im,kdelta,cdelta,ddelta,mps,alpha)\n",
    "       # im=im*.5+im_input*.5\n",
    "        torch.cuda.empty_cache()\n",
    "        import gc\n",
    "        gc.collect()\n",
    "    loss=SS_update(im,kgamma,dgamma,cgamma,mps)*10\n",
    "    print(loss)\n",
    "   # print(alpha)\n",
    "    import imageio\n",
    "    import imageio\n",
    "    imageio.mimsave('image0.gif', [np.abs(im[i,30:120,110,30:220].detach().cpu().numpy())*1e15 for i in range(1)], fps=4)\n",
    " \n",
    "    loss.backward()\n",
    "    print(loss)\n",
    "    optimizer0.step()\n",
    "    optimizer0.zero_grad()\n",
    "    optimizer1.step()\n",
    "    optimizer1.zero_grad()"
   ]
  },
  {
   "cell_type": "code",
   "execution_count": null,
   "id": "d4903ddc-ef6f-4b0e-ab88-c8a5d605fe0e",
   "metadata": {},
   "outputs": [],
   "source": []
  }
 ],
 "metadata": {
  "kernelspec": {
   "display_name": "Python 3 (ipykernel)",
   "language": "python",
   "name": "python3"
  },
  "language_info": {
   "codemirror_mode": {
    "name": "ipython",
    "version": 3
   },
   "file_extension": ".py",
   "mimetype": "text/x-python",
   "name": "python",
   "nbconvert_exporter": "python",
   "pygments_lexer": "ipython3",
   "version": "3.10.10"
  }
 },
 "nbformat": 4,
 "nbformat_minor": 5
}
